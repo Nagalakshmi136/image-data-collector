{
 "cells": [
  {
   "cell_type": "code",
   "execution_count": null,
   "metadata": {},
   "outputs": [],
   "source": [
    "from selenium import webdriver\n",
    "from selenium.webdriver.support.ui import WebDriverWait\n",
    "from selenium.webdriver.common.by import By\n",
    "from selenium.webdriver.support import expected_conditions as EC\n",
    "from selenium.webdriver.chrome.service import Service\n",
    "from webdriver_manager.chrome import ChromeDriverManager\n",
    "import time\n",
    "from selenium.webdriver.common.keys import Keys\n",
    "import requests\n",
    "import pandas as pd"
   ]
  },
  {
   "cell_type": "code",
   "execution_count": null,
   "metadata": {},
   "outputs": [],
   "source": [
    "df = pd.read_csv('input_data.csv')"
   ]
  },
  {
   "cell_type": "code",
   "execution_count": null,
   "metadata": {},
   "outputs": [],
   "source": [
    "def scroll_to_bottom(driver,wait):\n",
    "    \n",
    "        last_height = driver.execute_script('\\\n",
    "        return document.body.scrollHeight')\n",
    "    \n",
    "        while True:\n",
    "            driver.execute_script('\\\n",
    "            window.scrollTo(0,document.body.scrollHeight)')\n",
    "    \n",
    "            # waiting for the results to load\n",
    "            # Increase the sleep time if your internet is slow\n",
    "            time.sleep(5)\n",
    "    \n",
    "            new_height = driver.execute_script('\\\n",
    "            return document.body.scrollHeight')\n",
    "    \n",
    "            # click on \"Show more results\" (if exists)\n",
    "            try:\n",
    "                more_results = wait.until(EC.presence_of_element_located((By.XPATH,'//input[@value=\"Show more results\"]')))\n",
    "                more_results.click()\n",
    "                # waiting for the results to load\n",
    "                # Increase the sleep time if your internet is slow\n",
    "                time.sleep(5)\n",
    "    \n",
    "            except:\n",
    "                pass\n",
    "    \n",
    "            # checking if we have reached the bottom of the page\n",
    "            if new_height == last_height:\n",
    "                break\n",
    "            last_height = new_height\n",
    "            break"
   ]
  },
  {
   "cell_type": "code",
   "execution_count": null,
   "metadata": {},
   "outputs": [],
   "source": [
    "def fetch_urls(driver,query,n,wait):\n",
    "    # Open Google Images in the browser\n",
    "    driver.get('https://images.google.com/')\n",
    "    # Finding the search box\n",
    "    box = wait.until(EC.presence_of_element_located((By.XPATH,'//textarea[@id=\"APjFqb\"]')))\n",
    "    \n",
    "    # Type the search query in the search box\n",
    "    box.send_keys(query)def fetch_images(database: str, width: int, height: int):\n",
    "    data_path = create_dir(f'{os.getcwd()}/data')\n",
    "    connection = sqlite3.connect(database)\n",
    "    cursor = connection.cursor()\n",
    "    cursor.execute(\"SELECT image_url,image_category FROM images WHERE image_dimensions is NULL\")\n",
    "    image_urls = cursor.fetchall()\n",
    "    print('database loaded')\n",
    "    for ind,image_url in tqdm(enumerate(image_urls)):\n",
    "        try:\n",
    "            response = requests.get(image_url[0],stream=True)\n",
    "            print('get response')\n",
    "            content_type =response.headers['content-type']\n",
    "            image_content = response.content\n",
    "            image = Image.open(BytesIO(image_content))\n",
    "            image_dimensions = f'{image.width} X {image.height}'\n",
    "            image_size = f'{sys.getsizeof(image_content)/1024} kb'\n",
    "            cursor.execute(\"UPDATE images SET image_type=?, image_dimensions=?, image_size=? WHERE image_url=?\",(content_type,image_dimensions,image_size,image_url[0]))\n",
    "            print('updated')\n",
    "            connection.commit()\n",
    "            image_category_path = create_dir(f'{data_path}/{image_url[1]}')\n",
    "            resized_image = image.resize((width,height))\n",
    "            resized_image.save(f'{image_category_path}/{image_url[1]}{ind}.jpeg')\n",
    "        except Exception as e:\n",
    "            print(e)\n",
    "            continue\n",
    "    connection.close()\n",
    "    \n",
    "    # Pressing enter\n",
    "    box.send_keys(Keys.ENTER)\n",
    "    \n",
    "    # Function for scrolling to the bottom of Google\n",
    "    # Images results\n",
    "    scroll_to_bottom(driver,wait)\n",
    "    images_path = '//img[contains(@class,\"Q4LuWd\")]'\n",
    "    image_results = wait.until(EC.presence_of_all_elements_located((By.XPATH,images_path)))\n",
    "    return image_results\n",
    "    \n",
    "        "
   ]
  },
  {
   "cell_type": "code",
   "execution_count": null,
   "metadata": {},
   "outputs": [],
   "source": [
    "options = webdriver.ChromeOptions()\n",
    "options.add_experimental_option(\"detach\", True)\n",
    "driver = webdriver.Chrome(options=options)\n",
    "driver.maximize_window()\n",
    "wait = WebDriverWait(driver,20)\n",
    "image_results = []\n",
    "image_titles = []\n",
    "for ind in df.index:\n",
    "    q = df['keyword'][ind]\n",
    "    n = df[' max_limit'][ind]\n",
    "    urls = fetch_urls(driver,q,n,wait)\n",
    "    print(len(urls))\n",
    "    for url in urls:\n",
    "        try:\n",
    "            url.click()\n",
    "            actual_img_path = '//img[@class=\"sFlh5c pT0Scc iPVvYb\"]'\n",
    "            actual_image = wait.until(EC.presence_of_element_located((By.XPATH,actual_img_path)))\n",
    "            image_link = actual_image.get_attribute('src')\n",
    "            if \"http\" in image_link:\n",
    "                cursor.execute(\"INSERT INTO images VALUES (?,?,?,NULL,NULL,NULL)\",(image_link, q,actual_image.get_attribute('alt')))\n",
    "        except:\n",
    "            continue\n",
    "\n",
    "    \n",
    "        # cursor.execute(\"INSERT INTO images VALUES (?,?)\",(q, url.get_attribute('src')))"
   ]
  },
  {
   "cell_type": "code",
   "execution_count": null,
   "metadata": {},
   "outputs": [],
   "source": [
    "import requests\n",
    "from PIL import Image\n",
    "from io import BytesIO"
   ]
  },
  {
   "cell_type": "code",
   "execution_count": null,
   "metadata": {},
   "outputs": [],
   "source": [
    "link = 'https://media.4-paws.org/a/5/3/7/a537f08d227326121b80790ba54036498668c9c8/VIER%20PFOTEN_2016-07-08_011-4993x3455-1920x1329.jpg'"
   ]
  },
  {
   "cell_type": "code",
   "execution_count": null,
   "metadata": {},
   "outputs": [],
   "source": [
    "link = 'https://upload.wikimedia.org/wikipedia/commons/thumb/1/15/Cat_August_2010-4.jpg/1200px-Cat_August_2010-4.jpg'"
   ]
  },
  {
   "cell_type": "code",
   "execution_count": null,
   "metadata": {},
   "outputs": [],
   "source": [
    "import sys\n",
    "from io import BytesIO\n",
    "from PIL import Image"
   ]
  },
  {
   "cell_type": "code",
   "execution_count": null,
   "metadata": {},
   "outputs": [],
   "source": [
    "res = requests.get(link, timeout=(60,60))"
   ]
  },
  {
   "cell_type": "code",
   "execution_count": null,
   "metadata": {},
   "outputs": [],
   "source": [
    "resized_image = img.resize((512,512))\n",
    "resized_image.save('es1.jpg')"
   ]
  },
  {
   "cell_type": "code",
   "execution_count": null,
   "metadata": {},
   "outputs": [],
   "source": [
    "from tqdm import tqdm"
   ]
  },
  {
   "cell_type": "code",
   "execution_count": null,
   "metadata": {},
   "outputs": [],
   "source": [
    "import os"
   ]
  },
  {
   "cell_type": "code",
   "execution_count": null,
   "metadata": {},
   "outputs": [],
   "source": [
    "if not os.path.exists(f'{os.getcwd()}/data'):\n",
    "    os.makedirs(f'{os.getcwd()}/data')"
   ]
  },
  {
   "cell_type": "code",
   "execution_count": null,
   "metadata": {},
   "outputs": [],
   "source": [
    "import requests\n",
    "from requests.adapters import HTTPAdapter\n",
    "from urllib3.util.retry import Retry\n",
    "\n",
    "session = requests.Session()\n",
    "retry = Retry(connect=3, backoff_factor=0.5)\n",
    "adapter = HTTPAdapter(max_retries=retry)\n",
    "session.mount('http://', adapter)\n",
    "session.mount('https://', adapter)\n",
    "res = session.get(link)"
   ]
  },
  {
   "cell_type": "code",
   "execution_count": null,
   "metadata": {},
   "outputs": [],
   "source": [
    "from PIL import Image"
   ]
  },
  {
   "cell_type": "code",
   "execution_count": null,
   "metadata": {},
   "outputs": [],
   "source": [
    "res = requests.get(link, timeout=(30,60))"
   ]
  },
  {
   "cell_type": "code",
   "execution_count": null,
   "metadata": {},
   "outputs": [],
   "source": [
    "img = Image.open(BytesIO(res.content))\n"
   ]
  },
  {
   "cell_type": "code",
   "execution_count": null,
   "metadata": {},
   "outputs": [],
   "source": [
    "img.save(\"exp.jpeg\")"
   ]
  },
  {
   "cell_type": "code",
   "execution_count": null,
   "metadata": {},
   "outputs": [],
   "source": [
    "with open('ex.jpg','wb') as fw:\n",
    "    fw.write(res.content)"
   ]
  },
  {
   "cell_type": "code",
   "execution_count": null,
   "metadata": {},
   "outputs": [],
   "source": [
    "import sqlite3"
   ]
  },
  {
   "cell_type": "code",
   "execution_count": null,
   "metadata": {},
   "outputs": [],
   "source": [
    "connection = sqlite3.connect('images_data.db')\n",
    "cursor = connection.cursor()\n",
    "cursor.execute(\"\"\"CREATE TABLE IF NOT EXISTS img_temp(\n",
    "                   image_id INTEGER PRIMARY KEY AUTOINCREMENT,\n",
    "                   image_url TEXT NOT NULL UNIQUE,\n",
    "                   image_category TEXT,\n",
    "                   image_title TEXT,\n",
    "                   image_type TEXT,\n",
    "                   image_dimensions TEXT,\n",
    "                   image_size TEXT\n",
    "               )\"\"\")\n",
    "connection.commit()"
   ]
  },
  {
   "cell_type": "code",
   "execution_count": null,
   "metadata": {},
   "outputs": [],
   "source": [
    "connection = sqlite3.connect('images_data.db')\n",
    "cursor = connection.cursor()"
   ]
  },
  {
   "cell_type": "code",
   "execution_count": null,
   "metadata": {},
   "outputs": [],
   "source": []
  },
  {
   "cell_type": "code",
   "execution_count": null,
   "metadata": {},
   "outputs": [],
   "source": [
    "link = 'https://upload.wikimedia.org/wikipedia/commons/thumb/1/15/Cat_August_2010-4.jpg/1200px-Cat_August_2010-4.jpg'\n"
   ]
  },
  {
   "cell_type": "code",
   "execution_count": null,
   "metadata": {},
   "outputs": [],
   "source": [
    "CREATE TABLE failed_banks_id (id integer primary key autoincrement, name text, city text, state text, zip integer, acquired_by text, close_date date, updated_date date);\n",
    "\n",
    "INSERT INTO failed_banks_id(name, city, state, zip, acquired_by,close_date, updated_date)\n",
    "SELECT name, city, state, zip, acquired_by,close_date, updated_date\n",
    "FROM failed_banks;"
   ]
  },
  {
   "cell_type": "code",
   "execution_count": null,
   "metadata": {},
   "outputs": [],
   "source": [
    "cursor.execute(\"\"\"INSERT OR IGNORE INTO img_temp (image_url, image_category, image_title, image_type, image_dimensions,image_size)\n",
    "SELECT image_url, image_category, image_title, image_type, image_dimensions,image_size\n",
    "FROM images;\"\"\")\n",
    "connection.commit()"
   ]
  },
  {
   "cell_type": "code",
   "execution_count": null,
   "metadata": {},
   "outputs": [],
   "source": []
  },
  {
   "cell_type": "code",
   "execution_count": null,
   "metadata": {},
   "outputs": [],
   "source": [
    "# cursor.execute(\"ALTER TABLE images RENAME TO images;\")"
   ]
  },
  {
   "cell_type": "code",
   "execution_count": null,
   "metadata": {},
   "outputs": [],
   "source": [
    "cursor.execute(\"SELECT image_url FROM images WHERE image_category='cats'\")"
   ]
  },
  {
   "cell_type": "code",
   "execution_count": null,
   "metadata": {},
   "outputs": [],
   "source": [
    "cursor.execute(\"SELECT image_category,COUNT(image_url) FROM images GROUP BY image_category\")"
   ]
  },
  {
   "cell_type": "code",
   "execution_count": null,
   "metadata": {},
   "outputs": [],
   "source": [
    "cursor.execute(\"\"\"\n",
    "                CREATE TABLE images_no_dup AS\n",
    "                SELECT DISTINCT * FROM images;\n",
    "                            \"\"\")"
   ]
  },
  {
   "cell_type": "code",
   "execution_count": null,
   "metadata": {},
   "outputs": [],
   "source": [
    "connection.commit()"
   ]
  },
  {
   "cell_type": "code",
   "execution_count": null,
   "metadata": {},
   "outputs": [],
   "source": [
    "cursor.execute(\"ALTER TABLE img_temp RENAME TO images;\")"
   ]
  },
  {
   "cell_type": "code",
   "execution_count": null,
   "metadata": {},
   "outputs": [],
   "source": [
    "cursor.execute(\"SELECT * FROM img_temp \")"
   ]
  },
  {
   "cell_type": "code",
   "execution_count": null,
   "metadata": {},
   "outputs": [],
   "source": [
    "ls = cursor.fetchall()"
   ]
  },
  {
   "cell_type": "code",
   "execution_count": null,
   "metadata": {},
   "outputs": [],
   "source": [
    "link = ls[79][0]"
   ]
  },
  {
   "cell_type": "code",
   "execution_count": null,
   "metadata": {},
   "outputs": [],
   "source": [
    "len(ls)"
   ]
  },
  {
   "cell_type": "code",
   "execution_count": null,
   "metadata": {},
   "outputs": [],
   "source": [
    "connection.commit()"
   ]
  },
  {
   "cell_type": "code",
   "execution_count": null,
   "metadata": {},
   "outputs": [],
   "source": [
    "cursor.execute(\"ALTER TABLE images ADD image_id INTEGER PRIMARY KEY AUTOINCREMENT\")"
   ]
  },
  {
   "cell_type": "code",
   "execution_count": null,
   "metadata": {},
   "outputs": [],
   "source": [
    "link = ls[42][0]"
   ]
  },
  {
   "cell_type": "code",
   "execution_count": null,
   "metadata": {},
   "outputs": [],
   "source": [
    "import pandas as pd"
   ]
  },
  {
   "cell_type": "code",
   "execution_count": null,
   "metadata": {},
   "outputs": [],
   "source": [
    "df = pd.read_csv('input_data.csv')"
   ]
  },
  {
   "cell_type": "code",
   "execution_count": null,
   "metadata": {},
   "outputs": [],
   "source": [
    "cursor.execute(\"UPDATE images SET ?= NULL, ?= NULL, ?=NULL\",())"
   ]
  },
  {
   "cell_type": "code",
   "execution_count": null,
   "metadata": {},
   "outputs": [],
   "source": [
    "import os\n",
    "def create_dir(dir_path: str):\n",
    "    if not os.path.exists(dir_path):\n",
    "        os.makedirs(dir_path)\n",
    "    return dir_path"
   ]
  },
  {
   "cell_type": "code",
   "execution_count": null,
   "metadata": {},
   "outputs": [],
   "source": [
    "connection.commit()"
   ]
  },
  {
   "cell_type": "code",
   "execution_count": null,
   "metadata": {},
   "outputs": [],
   "source": [
    "connection.close()"
   ]
  },
  {
   "cell_type": "code",
   "execution_count": null,
   "metadata": {},
   "outputs": [],
   "source": [
    "def fetch_images(database: str, width: int, height: int):\n",
    "    data_path = create_dir(f'{os.getcwd()}/data')\n",
    "    connection = sqlite3.connect(database)\n",
    "    cursor = connection.cursor()\n",
    "    cursor.execute(\"SELECT image_url,image_category,image_id FROM images WHERE image_dimensions is NULL\")\n",
    "    image_urls = cursor.fetchall()\n",
    "    print(len(image_urls))\n",
    "    for image_url in tqdm(image_urls):\n",
    "        try:\n",
    "            response = requests.get(image_url[0],stream=True,timeout=(30,60))\n",
    "            print('get response')\n",
    "            content_type =response.headers['content-type']\n",
    "            image_content = response.content\n",
    "            image = Image.open(BytesIO(image_content))\n",
    "            image_dimensions = f'{image.width} X {image.height}'\n",
    "            image_size = f'{sys.getsizeof(image_content)/1024} kb'\n",
    "            cursor.execute(\"UPDATE images SET image_type=?, image_dimensions=?, image_size=? WHERE image_url=?\",(content_type,image_dimensions,image_size,image_url[0]))\n",
    "            print('updated')\n",
    "            connection.commit()\n",
    "            image_category_path = create_dir(f'{data_path}/{image_url[1]}')\n",
    "            resized_image = image.resize((width,height))\n",
    "            resized_image.save(f'{image_category_path}/{image_url[1]}{image_url[2]}.jpeg')\n",
    "        except Exception as e:\n",
    "            print(e)\n",
    "            continue\n",
    "    connection.close()"
   ]
  },
  {
   "cell_type": "code",
   "execution_count": null,
   "metadata": {},
   "outputs": [],
   "source": [
    "fetch_images(database=\"images_data.db\", width=512, height=512)"
   ]
  },
  {
   "cell_type": "code",
   "execution_count": null,
   "metadata": {},
   "outputs": [],
   "source": []
  }
 ],
 "metadata": {
  "kernelspec": {
   "display_name": "compressor",
   "language": "python",
   "name": "python3"
  },
  "language_info": {
   "codemirror_mode": {
    "name": "ipython",
    "version": 3
   },
   "file_extension": ".py",
   "mimetype": "text/x-python",
   "name": "python",
   "nbconvert_exporter": "python",
   "pygments_lexer": "ipython3",
   "version": "3.11.7"
  },
  "orig_nbformat": 4
 },
 "nbformat": 4,
 "nbformat_minor": 2
}
