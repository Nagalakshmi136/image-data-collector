{
 "cells": [
  {
   "cell_type": "code",
   "execution_count": 153,
   "metadata": {},
   "outputs": [],
   "source": [
    "from selenium import webdriver\n",
    "from selenium.webdriver.support.ui import WebDriverWait\n",
    "from selenium.webdriver.common.by import By\n",
    "from selenium.webdriver.support import expected_conditions as EC\n",
    "from selenium.webdriver.chrome.service import Service\n",
    "from webdriver_manager.chrome import ChromeDriverManager\n",
    "import time\n",
    "from selenium.webdriver.common.keys import Keys\n",
    "import requests\n",
    "import pandas as pd"
   ]
  },
  {
   "cell_type": "code",
   "execution_count": 154,
   "metadata": {},
   "outputs": [],
   "source": [
    "df = pd.read_csv('input_data.csv')"
   ]
  },
  {
   "cell_type": "code",
   "execution_count": 211,
   "metadata": {},
   "outputs": [],
   "source": [
    "def scroll_to_bottom(driver,wait):\n",
    "    \n",
    "        last_height = driver.execute_script('\\\n",
    "        return document.body.scrollHeight')\n",
    "    \n",
    "        while True:\n",
    "            driver.execute_script('\\\n",
    "            window.scrollTo(0,document.body.scrollHeight)')\n",
    "    \n",
    "            # waiting for the results to load\n",
    "            # Increase the sleep time if your internet is slow\n",
    "            time.sleep(5)\n",
    "    \n",
    "            new_height = driver.execute_script('\\\n",
    "            return document.body.scrollHeight')\n",
    "    \n",
    "            # click on \"Show more results\" (if exists)\n",
    "            try:\n",
    "                more_results = wait.until(EC.presence_of_element_located((By.XPATH,'//input[@value=\"Show more results\"]')))\n",
    "                more_results.click()\n",
    "                # waiting for the results to load\n",
    "                # Increase the sleep time if your internet is slow\n",
    "                time.sleep(5)\n",
    "    \n",
    "            except:\n",
    "                pass\n",
    "    \n",
    "            # checking if we have reached the bottom of the page\n",
    "            if new_height == last_height:\n",
    "                break\n",
    "            last_height = new_height\n",
    "            break"
   ]
  },
  {
   "cell_type": "code",
   "execution_count": 201,
   "metadata": {},
   "outputs": [],
   "source": [
    "def fetch_urls(driver,query,n,wait):\n",
    "    # Open Google Images in the browser\n",
    "    driver.get('https://images.google.com/')\n",
    "    # Finding the search box\n",
    "    box = wait.until(EC.presence_of_element_located((By.XPATH,'//textarea[@id=\"APjFqb\"]')))\n",
    "    \n",
    "    # Type the search query in the search box\n",
    "    box.send_keys(query)\n",
    "    \n",
    "    # Pressing enter\n",
    "    box.send_keys(Keys.ENTER)\n",
    "    \n",
    "    # Function for scrolling to the bottom of Google\n",
    "    # Images results\n",
    "    scroll_to_bottom(driver,wait)\n",
    "    images_path = '//img[contains(@class,\"Q4LuWd\")]'\n",
    "    image_results = wait.until(EC.presence_of_all_elements_located((By.XPATH,images_path)))\n",
    "    return image_results\n",
    "    \n",
    "        "
   ]
  },
  {
   "cell_type": "code",
   "execution_count": 221,
   "metadata": {},
   "outputs": [
    {
     "name": "stdout",
     "output_type": "stream",
     "text": [
      "100\n"
     ]
    }
   ],
   "source": [
    "options = webdriver.ChromeOptions()\n",
    "options.add_experimental_option(\"detach\", True)\n",
    "driver = webdriver.Chrome(options=options)\n",
    "driver.maximize_window()\n",
    "wait = WebDriverWait(driver,20)\n",
    "image_results = []\n",
    "image_titles = []\n",
    "for ind in df.index:\n",
    "    q = df['keyword'][ind]\n",
    "    n = df[' max_limit'][ind]\n",
    "    urls = fetch_urls(driver,q,n,wait)\n",
    "    print(len(urls))\n",
    "    for url in urls:\n",
    "        try:\n",
    "            url.click()\n",
    "            actual_img_path = '//img[@class=\"sFlh5c pT0Scc iPVvYb\"]'\n",
    "            actual_image = wait.until(EC.presence_of_element_located((By.XPATH,actual_img_path)))\n",
    "            image_link = actual_image.get_attribute('src')\n",
    "            if \"http\" in image_link:\n",
    "                cursor.execute(\"INSERT INTO images VALUES (?,?,?,NULL,NULL,NULL)\",(image_link, q,actual_image.get_attribute('alt')))\n",
    "        except:\n",
    "            continue\n",
    "\n",
    "    \n",
    "        # cursor.execute(\"INSERT INTO images VALUES (?,?)\",(q, url.get_attribute('src')))"
   ]
  },
  {
   "cell_type": "code",
   "execution_count": 54,
   "metadata": {},
   "outputs": [],
   "source": [
    "import requests\n",
    "from PIL import Image\n",
    "from io import BytesIO"
   ]
  },
  {
   "cell_type": "code",
   "execution_count": 160,
   "metadata": {},
   "outputs": [],
   "source": [
    "link = 'https://media.4-paws.org/a/5/3/7/a537f08d227326121b80790ba54036498668c9c8/VIER%20PFOTEN_2016-07-08_011-4993x3455-1920x1329.jpg'"
   ]
  },
  {
   "cell_type": "code",
   "execution_count": 165,
   "metadata": {},
   "outputs": [],
   "source": [
    "link = 'https://upload.wikimedia.org/wikipedia/commons/thumb/1/15/Cat_August_2010-4.jpg/1200px-Cat_August_2010-4.jpg'"
   ]
  },
  {
   "cell_type": "code",
   "execution_count": 152,
   "metadata": {},
   "outputs": [
    {
     "data": {
      "text/plain": [
       "{'Access-Control-Allow-Credentials': 'true', 'Access-Control-Allow-Origin': '*', 'Age': '210', 'Cache-Control': 'max-age=31536000', 'Content-Encoding': 'gzip', 'Content-Type': 'image/jpeg', 'Date': 'Thu, 22 Feb 2024 06:04:44 GMT', 'Etag': '\"32871-5b39e3d87dfad\"', 'Expires': 'Fri, 21 Feb 2025 06:04:44 GMT', 'Last-Modified': 'Sun, 08 Nov 2020 20:25:02 GMT', 'Server': 'smq', 'Strict-Transport-Security': 'max-age=2592000; preload', 'Vary': 'Accept-Encoding', 'X-Cache': 'HIT', 'X-Content-Type-Options': 'nosniff', 'X-Frame-Options': 'sameorigin', 'X-Host': 'media.4-paws.org', 'X-Url': '/a/5/3/7/a537f08d227326121b80790ba54036498668c9c8/VIER%20PFOTEN_2016-07-08_011-4993x3455-1920x1329.jpg', 'Transfer-Encoding': 'chunked'}"
      ]
     },
     "execution_count": 152,
     "metadata": {},
     "output_type": "execute_result"
    }
   ],
   "source": [
    "response.headers"
   ]
  },
  {
   "cell_type": "code",
   "execution_count": 166,
   "metadata": {},
   "outputs": [],
   "source": [
    "response = requests.get(link)\n",
    "# content_type =response.headers['content-type']\n",
    "# image_size = int(response.headers['content-length'])/1024"
   ]
  },
  {
   "cell_type": "code",
   "execution_count": 158,
   "metadata": {},
   "outputs": [
    {
     "data": {
      "text/plain": [
       "<bound method Mapping.keys of {'Access-Control-Allow-Credentials': 'true', 'Access-Control-Allow-Origin': '*', 'Age': '245', 'Cache-Control': 'max-age=31536000', 'Content-Encoding': 'gzip', 'Content-Type': 'image/jpeg', 'Date': 'Thu, 22 Feb 2024 06:11:39 GMT', 'Etag': '\"32871-5b39e3d87dfad\"', 'Expires': 'Fri, 21 Feb 2025 06:11:39 GMT', 'Last-Modified': 'Sun, 08 Nov 2020 20:25:02 GMT', 'Server': 'smq', 'Strict-Transport-Security': 'max-age=2592000; preload', 'Vary': 'Accept-Encoding', 'X-Cache': 'HIT', 'X-Content-Type-Options': 'nosniff', 'X-Frame-Options': 'sameorigin', 'X-Host': 'media.4-paws.org', 'X-Url': '/a/5/3/7/a537f08d227326121b80790ba54036498668c9c8/VIER%20PFOTEN_2016-07-08_011-4993x3455-1920x1329.jpg', 'Transfer-Encoding': 'chunked'}>"
      ]
     },
     "execution_count": 158,
     "metadata": {},
     "output_type": "execute_result"
    }
   ],
   "source": [
    "response.headers.keys"
   ]
  },
  {
   "cell_type": "code",
   "execution_count": 186,
   "metadata": {},
   "outputs": [],
   "source": [
    "import sys\n",
    "from io import BytesIO\n",
    "from PIL import Image"
   ]
  },
  {
   "cell_type": "code",
   "execution_count": 187,
   "metadata": {},
   "outputs": [],
   "source": [
    "\n",
    "img = Image.open(BytesIO(response.content))"
   ]
  },
  {
   "cell_type": "code",
   "execution_count": 190,
   "metadata": {},
   "outputs": [],
   "source": [
    "img.save(\"exp.jpeg\")"
   ]
  },
  {
   "cell_type": "code",
   "execution_count": 44,
   "metadata": {},
   "outputs": [],
   "source": [
    "resized_image = img.resize((512,512))\n",
    "resized_image.save('es1.jpg')"
   ]
  },
  {
   "cell_type": "code",
   "execution_count": null,
   "metadata": {},
   "outputs": [],
   "source": []
  },
  {
   "cell_type": "code",
   "execution_count": 13,
   "metadata": {},
   "outputs": [],
   "source": [
    "import os"
   ]
  },
  {
   "cell_type": "code",
   "execution_count": 10,
   "metadata": {},
   "outputs": [],
   "source": [
    "if not os.path.exists(f'{os.getcwd()}/data'):\n",
    "    os.makedirs(f'{os.getcwd()}/data')"
   ]
  },
  {
   "cell_type": "code",
   "execution_count": 7,
   "metadata": {},
   "outputs": [
    {
     "ename": "TypeError",
     "evalue": "dirname() missing 1 required positional argument: 'p'",
     "output_type": "error",
     "traceback": [
      "\u001b[0;31m---------------------------------------------------------------------------\u001b[0m",
      "\u001b[0;31mTypeError\u001b[0m                                 Traceback (most recent call last)",
      "\u001b[1;32m/home/munikumar/Desktop/image-collector/example.ipynb Cell 8\u001b[0m line \u001b[0;36m1\n\u001b[0;32m----> <a href='vscode-notebook-cell:/home/munikumar/Desktop/image-collector/example.ipynb#X14sZmlsZQ%3D%3D?line=0'>1</a>\u001b[0m os\u001b[39m.\u001b[39;49mpath\u001b[39m.\u001b[39;49mdirname()\n",
      "\u001b[0;31mTypeError\u001b[0m: dirname() missing 1 required positional argument: 'p'"
     ]
    }
   ],
   "source": []
  },
  {
   "cell_type": "code",
   "execution_count": null,
   "metadata": {},
   "outputs": [],
   "source": [
    "from PIL import Image"
   ]
  },
  {
   "cell_type": "code",
   "execution_count": 184,
   "metadata": {},
   "outputs": [],
   "source": [
    "res = requests.get(link)"
   ]
  },
  {
   "cell_type": "code",
   "execution_count": 185,
   "metadata": {},
   "outputs": [],
   "source": [
    "with open('ex.jpg','wb') as fw:\n",
    "    fw.write(res.content)"
   ]
  },
  {
   "cell_type": "code",
   "execution_count": 101,
   "metadata": {},
   "outputs": [],
   "source": [
    "import sqlite3"
   ]
  },
  {
   "cell_type": "code",
   "execution_count": 102,
   "metadata": {},
   "outputs": [],
   "source": [
    "connection = sqlite3.connect('temp.db')\n",
    "cursor = connection.cursor()\n",
    "cursor.execute(\"\"\"CREATE TABLE IF NOT EXISTS img(\n",
    "                   image_url TEXT,\n",
    "                   image_category TEXT,\n",
    "                   image_title TEXT,\n",
    "                   image_type TEXT,\n",
    "                   image_dimensions TEXT,\n",
    "                   image_size TEXT\n",
    "               )\"\"\")\n",
    "connection.commit()"
   ]
  },
  {
   "cell_type": "code",
   "execution_count": 173,
   "metadata": {},
   "outputs": [],
   "source": [
    "connection = sqlite3.connect('images_data.db')\n",
    "cursor = connection.cursor()"
   ]
  },
  {
   "cell_type": "code",
   "execution_count": 103,
   "metadata": {},
   "outputs": [],
   "source": [
    "link = 'https://upload.wikimedia.org/wikipedia/commons/thumb/1/15/Cat_August_2010-4.jpg/1200px-Cat_August_2010-4.jpg'\n"
   ]
  },
  {
   "cell_type": "code",
   "execution_count": 104,
   "metadata": {},
   "outputs": [],
   "source": [
    "cursor.execute(\"INSERT OR IGNORE INTO img VALUES (?,?,?,NULL, NULL, NULL)\",(link,'cat','domestic'))\n",
    "connection.commit()"
   ]
  },
  {
   "cell_type": "code",
   "execution_count": 176,
   "metadata": {},
   "outputs": [
    {
     "data": {
      "text/plain": [
       "<sqlite3.Cursor at 0x7fd41edee0c0>"
      ]
     },
     "execution_count": 176,
     "metadata": {},
     "output_type": "execute_result"
    }
   ],
   "source": [
    "cursor.execute(\"SELECT * FROM images\")"
   ]
  },
  {
   "cell_type": "code",
   "execution_count": 175,
   "metadata": {},
   "outputs": [
    {
     "ename": "OperationalError",
     "evalue": "no such table: img",
     "output_type": "error",
     "traceback": [
      "\u001b[0;31m---------------------------------------------------------------------------\u001b[0m",
      "\u001b[0;31mOperationalError\u001b[0m                          Traceback (most recent call last)",
      "\u001b[1;32m/home/munikumar/Desktop/image-collector/example.ipynb Cell 28\u001b[0m line \u001b[0;36m1\n\u001b[0;32m----> <a href='vscode-notebook-cell:/home/munikumar/Desktop/image-collector/example.ipynb#X30sZmlsZQ%3D%3D?line=0'>1</a>\u001b[0m cursor\u001b[39m.\u001b[39;49mexecute(\u001b[39m\"\u001b[39;49m\u001b[39mSELECT image_url,image_category FROM img \u001b[39;49m\u001b[39m\"\u001b[39;49m)\n",
      "\u001b[0;31mOperationalError\u001b[0m: no such table: img"
     ]
    }
   ],
   "source": [
    "cursor.execute(\"SELECT image_url,image_category FROM img \")"
   ]
  },
  {
   "cell_type": "code",
   "execution_count": 177,
   "metadata": {},
   "outputs": [
    {
     "data": {
      "text/plain": [
       "[('https://i.natgeofe.com/n/548467d8-c5f1-4551-9f58-6817a8d2c45e/NationalGeographic_2572187_square.jpg',\n",
       "  'cats',\n",
       "  'Domestic cat',\n",
       "  'image/jpeg',\n",
       "  '3072 X 3072',\n",
       "  '1128.2080078125'),\n",
       " ('https://upload.wikimedia.org/wikipedia/commons/thumb/1/15/Cat_August_2010-4.jpg/1200px-Cat_August_2010-4.jpg',\n",
       "  'cats',\n",
       "  'Cat - Wikipedia',\n",
       "  'image/jpeg',\n",
       "  '1200 X 734',\n",
       "  '135.9580078125'),\n",
       " ('https://i.natgeofe.com/n/4cebbf38-5df4-4ed0-864a-4ebeb64d33a4/NationalGeographic_1468962_4x3.jpg',\n",
       "  'cats',\n",
       "  'Cats have 276 facial expressions. Why?',\n",
       "  'image/jpeg',\n",
       "  '3072 X 2304',\n",
       "  '343.890625'),\n",
       " ('https://th-thumbnailer.cdn-si-edu.com/bgmkh2ypz03IkiRR50I-UMaqUQc=/1000x750/filters:no_upscale():focal(1061x707:1062x708)/https://tf-cmsv2-smithsonianmag-media.s3.amazonaws.com/filer_public/55/95/55958815-3a8a-4032-ac7a-ff8c8ec8898a/gettyimages-1067956982.jpg',\n",
       "  'cats',\n",
       "  \"Cats React to 'Baby Talk' From Their Owners, but Not Strangers | Smart  News| Smithsonian Magazine\",\n",
       "  'image/webp',\n",
       "  '1000 X 750',\n",
       "  '74.91796875'),\n",
       " ('https://cdn.britannica.com/34/235834-050-C5843610/two-different-breeds-of-cats-side-by-side-outdoors-in-the-garden.jpg',\n",
       "  'cats',\n",
       "  'Cat | Breeds, Origins, History, Body Types, Senses, Behavior, & Heredity |  Britannica',\n",
       "  'image/jpeg',\n",
       "  '1600 X 1054',\n",
       "  '235.146484375'),\n",
       " ('https://static.scientificamerican.com/sciam/cache/file/2AE14CDD-1265-470C-9B15F49024186C10_source.jpg?w=1200',\n",
       "  'cats',\n",
       "  'The 6 Most Intriguing Things We Learned about Pet Cats and Dogs This Year |  Scientific American',\n",
       "  'image/jpeg',\n",
       "  '1200 X 800',\n",
       "  '100.2392578125'),\n",
       " ('https://cdn.britannica.com/39/7139-050-A88818BB/Himalayan-chocolate-point.jpg',\n",
       "  'cats',\n",
       "  'Physical features of domestic cats | Britannica',\n",
       "  'image/jpeg',\n",
       "  '930 X 620',\n",
       "  '67.208984375'),\n",
       " ('https://media.4-paws.org/a/5/3/7/a537f08d227326121b80790ba54036498668c9c8/VIER%20PFOTEN_2016-07-08_011-4993x3455-1920x1329.jpg',\n",
       "  'cats',\n",
       "  '10 Facts about Cats - FOUR PAWS International - Animal Welfare Organisation',\n",
       "  'image/jpeg',\n",
       "  '1920 X 1329',\n",
       "  '202.142578125 kb'),\n",
       " ('https://cdn.theatlantic.com/thumbor/tO5tLGl38cH3MjWz3PypY1dPHX4=/0x62:2000x1187/960x540/media/img/mt/2018/03/AP_325360162607/original.jpg',\n",
       "  'cats',\n",
       "  'How Humans Created Cats - The Atlantic',\n",
       "  'image/jpeg',\n",
       "  '960 X 540',\n",
       "  '55.5927734375 kb'),\n",
       " ('https://static01.nyt.com/images/2023/12/12/climate/12cli-cats/12cli-cats-articleLarge.jpg?quality=75&auto=webp&disable=upscale',\n",
       "  'cats',\n",
       "  \"What's on the Menu When Your Cat Goes Out? Probably More Than You Think. -  The New York Times\",\n",
       "  'image/jpeg',\n",
       "  '600 X 400',\n",
       "  '29.04296875 kb'),\n",
       " ('https://cdn.theatlantic.com/thumbor/B7U27JF25tScMZkCe5Pl9EqXjao=/0x131:2555x1568/960x540/media/img/mt/2017/06/shutterstock_319985324/original.jpg',\n",
       "  'cats',\n",
       "  'How Cats Used Humans to Conquer the World - The Atlantic',\n",
       "  'image/jpeg',\n",
       "  '960 X 540',\n",
       "  '78.392578125 kb'),\n",
       " ('https://www.pbs.org/wnet/nature/files/2014/09/ExtraordinaryCats-Main-900x506.jpg',\n",
       "  'cats',\n",
       "  'Extraordinary Cats | About | Nature | PBS',\n",
       "  'image/jpeg',\n",
       "  '900 X 506',\n",
       "  '101.3369140625 kb'),\n",
       " ('https://static.scientificamerican.com/sciam/cache/file/32665E6F-8D90-4567-9769D59E11DB7F26_source.jpg?w=1200',\n",
       "  'cats',\n",
       "  'Cats Recognize Their Own Names--Even If They Choose to Ignore Them |  Scientific American',\n",
       "  'image/jpeg',\n",
       "  '1200 X 957',\n",
       "  '124.6591796875 kb'),\n",
       " ('https://cdn.britannica.com/87/205187-050-BEE2B338/tapetum-lucidum-light-retina-night-vision-vertebrates.jpg',\n",
       "  'cats',\n",
       "  'Cat | Breeds, Origins, History, Body Types, Senses, Behavior, & Heredity |  Britannica',\n",
       "  'image/jpeg',\n",
       "  '1600 X 1089',\n",
       "  '279.560546875 kb'),\n",
       " ('https://upload.wikimedia.org/wikipedia/commons/b/bc/Juvenile_Ragdoll.jpg',\n",
       "  'cats',\n",
       "  'Kitten - Wikipedia',\n",
       "  'image/jpeg',\n",
       "  '3336 X 3000',\n",
       "  '3506.3076171875 kb'),\n",
       " ('https://www.cats.org.uk/media/13136/220325case013.jpg?width=500&height=333.49609375',\n",
       "  'cats',\n",
       "  'Before getting a cat | Meow Blog',\n",
       "  'image/jpeg',\n",
       "  '500 X 333',\n",
       "  '39.953125 kb'),\n",
       " ('https://www.purina.co.uk/sites/default/files/2023-03/Hero%20Pedigree%20Cats.jpg',\n",
       "  'cats',\n",
       "  'What are Pedigree Cats? | Purina',\n",
       "  'image/jpeg',\n",
       "  '1440 X 560',\n",
       "  '158.662109375 kb'),\n",
       " ('https://c02.purpledshub.com/uploads/sites/41/2020/10/GettyImages-1064238836-thumbnail-1298114.jpg?webp=1&w=1200',\n",
       "  'cats',\n",
       "  'Eight mind-blowing facts about cats, according to science - BBC Science  Focus Magazine',\n",
       "  'image/webp',\n",
       "  '940 X 612',\n",
       "  '48.9267578125 kb'),\n",
       " ('https://th-thumbnailer.cdn-si-edu.com/cV-x94ZPjcxmGY9-T4l0Dh75Gig=/1000x750/filters:no_upscale():focal(960x640:961x641)/https://tf-cmsv2-smithsonianmag-media.s3.amazonaws.com/filer_public/f6/f3/f6f3493a-467f-4474-8c52-af5d021414b6/cat-5778777_1920.jpg',\n",
       "  'cats',\n",
       "  'Cats Prey on More Than 2,000 Different Species | Smart News| Smithsonian  Magazine',\n",
       "  'image/webp',\n",
       "  '1000 X 750',\n",
       "  '105.0654296875 kb'),\n",
       " ('https://www.thesprucepets.com/thmb/Wy9Vno45XeFtos7omJ80qkZrtZc=/3760x0/filters:no_upscale():strip_icc()/GettyImages-174770333-0f52afc06a024c478fafb1280c1f491f.jpg',\n",
       "  'cats',\n",
       "  '10 Fluffy Cat Breeds',\n",
       "  'image/jpeg',\n",
       "  '3760 X 2507',\n",
       "  '1086.6513671875 kb'),\n",
       " ('https://www.hindustantimes.com/ht-img/img/2023/08/16/550x309/photo_2023-08-16_16-54-17_1692185213028_1692185218172.jpg',\n",
       "  'cats',\n",
       "  'National Black Cat Appreciation Day: 5 top black cat breeds that make great  pets - Hindustan Times',\n",
       "  None,\n",
       "  None,\n",
       "  None),\n",
       " ('https://ychef.files.bbci.co.uk/1280x720/p07ryyyj.jpg',\n",
       "  'cats',\n",
       "  'Why do we think cats are unfriendly?',\n",
       "  'image/jpeg',\n",
       "  '1280 X 720',\n",
       "  '121.6220703125 kb'),\n",
       " ('https://static.scientificamerican.com/sciam/cache/file/F766A67E-A8AA-4C90-A929C9AC67075D4B_source.jpg?w=600',\n",
       "  'cats',\n",
       "  'How House Cats Evolved | Scientific American',\n",
       "  'image/jpeg',\n",
       "  '600 X 487',\n",
       "  '64.0439453125 kb'),\n",
       " ('https://people.com/thmb/xHPJAus5iELyf5ndsPJ84GeJTwI=/1500x0/filters:no_upscale():max_bytes(150000):strip_icc():focal(694x160:696x162)/cat-study-110223-1-efc838c9067349ab82ac24abc4cc2de5.jpg',\n",
       "  'cats',\n",
       "  'Cats Have Nearly 300 Different Facial Expressions, Study Finds',\n",
       "  'image/jpeg',\n",
       "  '1500 X 1000',\n",
       "  '97.3330078125 kb'),\n",
       " ('https://www.wfla.com/wp-content/uploads/sites/71/2023/05/GettyImages-1389862392.jpg?w=2560&h=1440&crop=1',\n",
       "  'cats',\n",
       "  '10 Surprising benefits of having a cat in your life | WFLA',\n",
       "  'image/jpeg',\n",
       "  '2560 X 1440',\n",
       "  '266.3076171875 kb'),\n",
       " ('https://icatcare.org/app/uploads/2018/07/Thinking-of-getting-a-cat.png',\n",
       "  'cats',\n",
       "  'Thinking of getting a cat? | International Cat Care',\n",
       "  'image/png',\n",
       "  '1200 X 600',\n",
       "  '1216.955078125 kb'),\n",
       " ('https://www.thesprucepets.com/thmb/OoMBiCxD3B02Jx-WO9dmY0DAaaI=/4000x0/filters:no_upscale():strip_icc()/cats-recirc3_2-1f5de201af94447a9063f83249260aff.jpg',\n",
       "  'cats',\n",
       "  'Cats: The Complete Guide to Pet Care',\n",
       "  'image/jpeg',\n",
       "  '4000 X 2700',\n",
       "  '866.71875 kb'),\n",
       " ('https://images.contentstack.io/v3/assets/blt6f84e20c72a89efa/bltd23d698154616afc/63c73a89a362596b80751065/img-cat-whiskers-101-header.jpg',\n",
       "  'cats',\n",
       "  'Cat Whiskers 101 | Zoetis Petcare',\n",
       "  'image/jpeg',\n",
       "  '1260 X 756',\n",
       "  '62.6611328125 kb'),\n",
       " ('https://i0.wp.com/post.healthline.com/wp-content/uploads/2020/07/petting_pet_cat-1296x728-header.jpg?w=1155&h=1528',\n",
       "  'cats',\n",
       "  'Cats and Babies: Safety and Establishing Harmony',\n",
       "  'image/jpeg',\n",
       "  '1155 X 648',\n",
       "  '102.9951171875 kb'),\n",
       " ('https://images.pexels.com/photos/45201/kitty-cat-kitten-pet-45201.jpeg',\n",
       "  'cats',\n",
       "  'Cats Photos, Download The BEST Free Cats Stock Photos & HD Images',\n",
       "  'image/jpeg',\n",
       "  '2392 X 2500',\n",
       "  '380.5400390625 kb'),\n",
       " ('https://www.hartz.com/wp-content/uploads/2023/05/do-cats-only-meow-to-humans-2000x786-1.jpg',\n",
       "  'cats',\n",
       "  'Truth or Myth: Cats Only Meow to Humans | Hartz',\n",
       "  'image/jpeg',\n",
       "  '2000 X 786',\n",
       "  '430.1416015625 kb'),\n",
       " ('https://static01.nyt.com/images/2022/11/29/science/00tb-cats1/00tb-cats1-mediumSquareAt3X.jpg',\n",
       "  'cats',\n",
       "  'Cats - The New York Times',\n",
       "  'image/jpeg',\n",
       "  '1800 X 1801',\n",
       "  '448.314453125 kb'),\n",
       " ('https://upload.wikimedia.org/wikipedia/commons/thumb/9/97/Feral_cat_Virginia_crop.jpg/800px-Feral_cat_Virginia_crop.jpg',\n",
       "  'cats',\n",
       "  'Cat health - Wikipedia',\n",
       "  'image/jpeg',\n",
       "  '800 X 931',\n",
       "  '224.712890625 kb'),\n",
       " ('https://cdn.vox-cdn.com/thumbor/2XTYqiTtJ-8H8k46jALMh9ZMfzU=/0x0:1548x1024/1200x800/filters:focal(693x458:939x704)/cdn.vox-cdn.com/uploads/chorus_image/image/65936299/cats4.0.jpg',\n",
       "  'cats',\n",
       "  'Cats review: A deep and inscrutable movie - Vox',\n",
       "  'image/jpeg',\n",
       "  '1200 X 800',\n",
       "  '95.6962890625 kb'),\n",
       " ('https://cdn.britannica.com/25/172925-050-DC7E2298/black-cat-back.jpg',\n",
       "  'cats',\n",
       "  'Cat | Breeds, Origins, History, Body Types, Senses, Behavior, & Heredity |  Britannica',\n",
       "  'image/jpeg',\n",
       "  '1600 X 1435',\n",
       "  '159.8876953125 kb'),\n",
       " ('https://www.hindustantimes.com/ht-img/img/2023/04/12/550x309/cat_thumb_1681303010348_1681303048932_1681303048932.jpg',\n",
       "  'cats',\n",
       "  '10 secret habits of cats every pet parent should know | Hindustan Times',\n",
       "  None,\n",
       "  None,\n",
       "  None),\n",
       " ('https://i.cbc.ca/1.7059693.1702589283!/fileImage/httpImage/image.JPG_gen/derivatives/16x9_780/cuba-cats.JPG',\n",
       "  'cats',\n",
       "  \"In case you weren't aware, outdoor cats are stone-cold killers | CBC News\",\n",
       "  'image/jpeg',\n",
       "  '780 X 439',\n",
       "  '38.8896484375 kb'),\n",
       " ('https://i.natgeofe.com/k/ad9b542e-c4a0-4d0b-9147-da17121b4c98/MOmeow1_square.png',\n",
       "  'cats',\n",
       "  'Moment of Meow: Goofy Cats',\n",
       "  'image/jpeg',\n",
       "  '3072 X 3072',\n",
       "  '1622.3310546875 kb'),\n",
       " ('https://www.pugdundeesafaris.com/blog/wp-content/uploads/2020/07/eurasian-lynx.jpg',\n",
       "  'cats',\n",
       "  'Wild Cats of India | Big Cats Of India | Small Cats of India',\n",
       "  'image/jpeg',\n",
       "  '747 X 720',\n",
       "  '104.1767578125 kb'),\n",
       " ('https://media.npr.org/assets/img/2022/11/01/gettyimages-1189806758_custom-0a0266b3e82cfd9a1bb6016795a1a51b87277273.jpg',\n",
       "  'cats',\n",
       "  \"Allergic To Cats? There's Hope Yet! : Short Wave : NPR\",\n",
       "  'image/jpeg',\n",
       "  '4118 X 2742',\n",
       "  '4883.71484375 kb'),\n",
       " ('https://upload.wikimedia.org/wikipedia/commons/thumb/4/4d/Cat_November_2010-1a.jpg/800px-Cat_November_2010-1a.jpg',\n",
       "  'cats',\n",
       "  'Tabby cat - Wikipedia',\n",
       "  'image/jpeg',\n",
       "  '800 X 1068',\n",
       "  '232.3017578125 kb'),\n",
       " ('https://media-cldnry.s-nbcnews.com/image/upload/t_social_share_1024x768_scale,f_auto,q_auto:best/rockcms/2022-08/220805-domestic-cat-mjf-1540-382ba2.jpg',\n",
       "  'cats',\n",
       "  'Cats are cute, furry, cuddly — and an invasive alien species',\n",
       "  'image/jpeg',\n",
       "  '1024 X 682',\n",
       "  '125.7685546875 kb'),\n",
       " ('https://cdn.mos.cms.futurecdn.net/KYEJp9vem3QQFGhi25SYx4-1200-80.jpg',\n",
       "  'cats',\n",
       "  'How do cats get their stripes? | Live Science',\n",
       "  'image/jpeg',\n",
       "  '1024 X 576',\n",
       "  '75.8134765625 kb'),\n",
       " ('https://thumbor.forbes.com/thumbor/fit-in/900x510/https://www.forbes.com/advisor/wp-content/uploads/2023/09/how-much-does-a-cat-cost.jpeg.jpg',\n",
       "  'cats',\n",
       "  'How Much Does A Cat Or Kitten Cost? – Forbes Advisor',\n",
       "  'image/jpeg',\n",
       "  '900 X 507',\n",
       "  '101.4453125 kb'),\n",
       " ('https://www.salisbury.sa.gov.au/assets/images/Services/_1200x630_crop_center-center_82_none/Services-Pets-Animals-Cats-01.jpg?mtime=1626181965',\n",
       "  'cats',\n",
       "  'Cats • City of Salisbury',\n",
       "  'image/jpeg',\n",
       "  '1200 X 630',\n",
       "  '99.6005859375 kb'),\n",
       " ('https://www.pawschicago.org/fileadmin/_processed_/8/c/csm_garden1-1024x685_0438a114ad.jpg',\n",
       "  'cats',\n",
       "  'How Cats Age | PAWS Chicago',\n",
       "  'image/jpeg',\n",
       "  '598 X 400',\n",
       "  '51.00390625 kb')]"
      ]
     },
     "execution_count": 177,
     "metadata": {},
     "output_type": "execute_result"
    }
   ],
   "source": [
    "cursor.fetchall()"
   ]
  },
  {
   "cell_type": "code",
   "execution_count": 179,
   "metadata": {},
   "outputs": [],
   "source": [
    "import pandas as pd"
   ]
  },
  {
   "cell_type": "code",
   "execution_count": 181,
   "metadata": {},
   "outputs": [],
   "source": [
    "df = pd.read_csv('input_data.csv')"
   ]
  },
  {
   "cell_type": "code",
   "execution_count": 183,
   "metadata": {},
   "outputs": [],
   "source": [
    "link = 'https://www.hindustantimes.com/ht-img/img/2023/04/12/550x309/cat_thumb_1681303010348_1681303048932_1681303048932.jpg'"
   ]
  },
  {
   "cell_type": "code",
   "execution_count": 131,
   "metadata": {},
   "outputs": [
    {
     "data": {
      "text/plain": [
       "<sqlite3.Cursor at 0x7fd41ed05b40>"
      ]
     },
     "execution_count": 131,
     "metadata": {},
     "output_type": "execute_result"
    }
   ],
   "source": [
    "cursor.execute(\"UPDATE img SET image_size = '10kb', image_dimensions = '300X20' WHERE image_url = ?\",(img[0][0],))"
   ]
  },
  {
   "cell_type": "code",
   "execution_count": null,
   "metadata": {},
   "outputs": [],
   "source": []
  }
 ],
 "metadata": {
  "kernelspec": {
   "display_name": "compressor",
   "language": "python",
   "name": "python3"
  },
  "language_info": {
   "codemirror_mode": {
    "name": "ipython",
    "version": 3
   },
   "file_extension": ".py",
   "mimetype": "text/x-python",
   "name": "python",
   "nbconvert_exporter": "python",
   "pygments_lexer": "ipython3",
   "version": "3.11.7"
  },
  "orig_nbformat": 4
 },
 "nbformat": 4,
 "nbformat_minor": 2
}
